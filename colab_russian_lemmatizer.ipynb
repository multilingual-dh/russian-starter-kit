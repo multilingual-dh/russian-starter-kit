{
  "nbformat": 4,
  "nbformat_minor": 0,
  "metadata": {
    "kernelspec": {
      "display_name": "Python 3",
      "language": "python",
      "name": "python3"
    },
    "language_info": {
      "codemirror_mode": {
        "name": "ipython",
        "version": 3
      },
      "file_extension": ".py",
      "mimetype": "text/x-python",
      "name": "python",
      "nbconvert_exporter": "python",
      "pygments_lexer": "ipython3",
      "version": "3.8.3"
    },
    "colab": {
      "name": "appified-dlcl204-russian-lemmatizer-file-or-folder.ipynb",
      "provenance": [],
      "collapsed_sections": []
    }
  },
  "cells": [
    {
      "cell_type": "markdown",
      "metadata": {
        "id": "QvCakcm7wt4B"
      },
      "source": [
        "# Russian lemmatizer\n",
        "\n",
        "This Jupyter notebook takes a text file, or folder of text files in Russian, and creates a set of lemmatized derivative files (where all words are in their dictionary form, and not inflected). These lemmatized files can then be used for searching, or other computational text analysis methods."
      ]
    },
    {
      "cell_type": "markdown",
      "metadata": {
        "id": "KnC4c6q5wt4R"
      },
      "source": [
        "### Mounting Google drive\n",
        "Run the code cell below. You'll get a link that will take you to a screen where you can choose which Google account to authenticate with. After you choose an account and approve the connection, you'll get a long string of numbers and letters. Copy and paste it into the box that will appear in the code cell below, and hit enter.\n",
        "\n",
        "If you see `Mounted at /content/gdrive`, then you know it worked."
      ]
    },
    {
      "cell_type": "code",
      "metadata": {
        "id": "IMiVRnfGxDVY",
        "cellView": "form"
      },
      "source": [
        "#@title Mount Google Drive { vertical-output: true }\n",
        "from google.colab import drive\n",
        "\n",
        "drive.mount('/content/gdrive')"
      ],
      "execution_count": null,
      "outputs": []
    },
    {
      "cell_type": "markdown",
      "metadata": {
        "id": "ZJgA23Bmwt4C"
      },
      "source": [
        "## Setup\n",
        "This code cell below installs the *pymystem3* package which can do the actual lemmatizing. It also downloads and installes some files required for the package to work.\n",
        "\n",
        "After you finish running it, you should see the word *mystem* if everything worked correctly."
      ]
    },
    {
      "cell_type": "code",
      "metadata": {
        "id": "W3zFALK8wt4C",
        "cellView": "form"
      },
      "source": [
        "#@title Install pymystem3 and related files\n",
        "#Imports the sys module which you can use to perform system-level things \n",
        "#like installing new modules\n",
        "import sys\n",
        "\n",
        "#Installs pymystem3\n",
        "!{sys.executable} -m pip install pymystem3\n",
        "\n",
        "!wget http://download.cdn.yandex.net/mystem/mystem-3.0-linux3.1-64bit.tar.gz\n",
        "!tar -xvf mystem-3.0-linux3.1-64bit.tar.gz\n",
        "!cp mystem /bin/mystem\n",
        "\n",
        "#os is used for navigating your filesystem and getting to the files you want to lemmatize\n",
        "import os\n",
        "\n",
        "#pymystem3 is the module that does the actual lemmatizing\n",
        "from pymystem3 import Mystem\n",
        "\n",
        "#loads mystem\n",
        "mystem = Mystem()"
      ],
      "execution_count": null,
      "outputs": []
    },
    {
      "cell_type": "markdown",
      "metadata": {
        "id": "EQkuDsERlefq"
      },
      "source": [
        "## If you only want to lemmatize one file, put in the full path to your text file\n",
        "**Skip down to the next section if you want to lemmatize a whole folder**\n",
        "\n",
        "After uploading the text file to Drive, put in the full path to where it's located. All paths should begin with /content/gdrive/My Drive/. \n",
        "\n",
        "If your file is located just in the root of your Drive (not in a subfolder), the path should look like /content/gdrive/My Drive/your-text-file.txt\n",
        "\n",
        "If it's in a subfolder, it should look like: /content/gdrive/My Drive/subfolder/your-text-file.txt (you can also include multiple subfolders if it's nested)\n",
        "\n",
        "If the lemmatization works correctly, you should see the message *File lemmatized! Check your Google Drive folder.*"
      ]
    },
    {
      "cell_type": "code",
      "metadata": {
        "id": "K5xEDEgIwt4V",
        "cellView": "form"
      },
      "source": [
        "#@title Enter the full path to a single text (.txt) file\n",
        "filepath = \"/content/gdrive/My Drive/myfolder/mytextfile.txt\" #@param {type:\"string\"}\n",
        "\n",
        "#The outname is the name of the lemmatized file that this notebook creates\n",
        "#If you want it to be named something other than the original file name + -lemmatized\n",
        "#you can change that here\n",
        "outname = filepath.replace('.txt', '-lemmatized.txt')\n",
        "#Opens the file you specified\n",
        "with open(filepath, 'r', encoding='utf8') as f:\n",
        "    #Creates an empty text file with -lemmatized.txt appended to the name\n",
        "    with open(outname, 'w', encoding='utf8') as out:\n",
        "        #Reads the text of the file you specified\n",
        "        text = f.read()\n",
        "        #Lemmatizes the text\n",
        "        tokens = mystem.lemmatize(text)\n",
        "        #Creates a Python list of the lemmas\n",
        "        tokens = [token for token in tokens]\n",
        "        #Changes the lemmas from a Python list to a text string\n",
        "        #Lemmas are separated by a space\n",
        "        lemmatized = \"\".join(tokens)\n",
        "        #Writes the lemmas to the text file with -lemmatized appended to the name\n",
        "        out.write(lemmatized)\n",
        "        print('File lemmatized! Check your Google Drive folder.')"
      ],
      "execution_count": null,
      "outputs": []
    },
    {
      "cell_type": "markdown",
      "metadata": {
        "id": "DAFahAiKjDoc"
      },
      "source": [
        "## If want to lemmatize an entire folder of files, put the path to the folder here\n",
        "*Please include only paths to folders that contain text (.txt) files. If you have a folder that contains sub-folders of text files.*\n",
        "\n",
        "Paths should look like: '/content/gdrive/My Drive/subfolder' (you can also include multiple subfolders if it's nested)"
      ]
    },
    {
      "cell_type": "code",
      "metadata": {
        "id": "pPO6c4WbjsXM",
        "cellView": "form"
      },
      "source": [
        "#@title Enter the full path to a folder full of text (.txt) files\n",
        "textfolder = \"/content/gdrive/My Drive/myfolder\" #@param {type:\"string\"}\n",
        "#Changes the working directory to the folder you specified\n",
        "os.chdir(textfolder)\n",
        "#For every file in the folder you specified...\n",
        "for filename in os.listdir(textfolder):\n",
        "    #If it's a text file, but not one of the text files with just lemmas\n",
        "    if filename.endswith('.txt') and not filename.endswith('-lemmatized.txt'):\n",
        "        #The outname is the name of the lemmatized file that this notebook creates\n",
        "        #If you want it to be named something other than the original file name + -lemmatized\n",
        "        #you can change that here\n",
        "        outname = filename.replace('.txt', '-lemmatized.txt')\n",
        "        #Opens the file you specified\n",
        "        with open(filename, 'r', encoding='utf8') as f:\n",
        "            #Creates an empty text file with -lemmatized.txt appended to the name\n",
        "            with open(outname, 'w', encoding='utf8') as out:\n",
        "                #Reads the text of the file you specified\n",
        "                text = f.read()\n",
        "                #Lemmatizes the text\n",
        "                tokens = mystem.lemmatize(text)\n",
        "                #Creates a Python list of the lemmas\n",
        "                tokens = [token for token in tokens]\n",
        "                #Changes the lemmas from a Python list to a text string\n",
        "                #Lemmas are separated by a space\n",
        "                lemmatized = \"\".join(tokens)\n",
        "                #Writes the lemmas to the text file with -lemmatized appended to the name\n",
        "                out.write(lemmatized)\n",
        "print('Your folder now has lemmatized files!')"
      ],
      "execution_count": null,
      "outputs": []
    },
    {
      "cell_type": "markdown",
      "metadata": {
        "id": "YeDl2jHlwt4Y"
      },
      "source": [
        "## About\n",
        "\n",
        "This Jupyter notebook was developed by Quinn Dombrowski as part of the [Multilingual DH Russian Starter Kit](https://github.com/multilingual-dh/russian-starter-kit)."
      ]
    }
  ]
}