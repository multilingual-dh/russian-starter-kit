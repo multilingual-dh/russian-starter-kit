{
  "nbformat": 4,
  "nbformat_minor": 0,
  "metadata": {
    "colab": {
      "name": "Tesseract-RU",
      "provenance": [],
      "collapsed_sections": []
    },
    "kernelspec": {
      "display_name": "Python 3",
      "name": "python3"
    },
    "widgets": {
      "application/vnd.jupyter.widget-state+json": {
        "660f22c8315645bfae1d76225b85d47a": {
          "model_module": "@jupyter-widgets/controls",
          "model_name": "HBoxModel",
          "state": {
            "_view_name": "HBoxView",
            "_dom_classes": [],
            "_model_name": "HBoxModel",
            "_view_module": "@jupyter-widgets/controls",
            "_model_module_version": "1.5.0",
            "_view_count": null,
            "_view_module_version": "1.5.0",
            "box_style": "",
            "layout": "IPY_MODEL_4ef18c41ee824fe0b981e9119d47c574",
            "_model_module": "@jupyter-widgets/controls",
            "children": [
              "IPY_MODEL_301f9e743f0343b6971baf1aff3d62b4",
              "IPY_MODEL_157ec883e2c4489ba1af6f9eea76a2c7"
            ]
          }
        },
        "4ef18c41ee824fe0b981e9119d47c574": {
          "model_module": "@jupyter-widgets/base",
          "model_name": "LayoutModel",
          "state": {
            "_view_name": "LayoutView",
            "grid_template_rows": null,
            "right": null,
            "justify_content": null,
            "_view_module": "@jupyter-widgets/base",
            "overflow": null,
            "_model_module_version": "1.2.0",
            "_view_count": null,
            "flex_flow": null,
            "width": null,
            "min_width": null,
            "border": null,
            "align_items": null,
            "bottom": null,
            "_model_module": "@jupyter-widgets/base",
            "top": null,
            "grid_column": null,
            "overflow_y": null,
            "overflow_x": null,
            "grid_auto_flow": null,
            "grid_area": null,
            "grid_template_columns": null,
            "flex": null,
            "_model_name": "LayoutModel",
            "justify_items": null,
            "grid_row": null,
            "max_height": null,
            "align_content": null,
            "visibility": null,
            "align_self": null,
            "height": null,
            "min_height": null,
            "padding": null,
            "grid_auto_rows": null,
            "grid_gap": null,
            "max_width": null,
            "order": null,
            "_view_module_version": "1.2.0",
            "grid_template_areas": null,
            "object_position": null,
            "object_fit": null,
            "grid_auto_columns": null,
            "margin": null,
            "display": null,
            "left": null
          }
        },
        "301f9e743f0343b6971baf1aff3d62b4": {
          "model_module": "@jupyter-widgets/controls",
          "model_name": "FloatProgressModel",
          "state": {
            "_view_name": "ProgressView",
            "style": "IPY_MODEL_145d1895f42f42da9ab6b59fcd4e0c3f",
            "_dom_classes": [],
            "description": "100%",
            "_model_name": "FloatProgressModel",
            "bar_style": "success",
            "max": 109,
            "_view_module": "@jupyter-widgets/controls",
            "_model_module_version": "1.5.0",
            "value": 109,
            "_view_count": null,
            "_view_module_version": "1.5.0",
            "orientation": "horizontal",
            "min": 0,
            "description_tooltip": null,
            "_model_module": "@jupyter-widgets/controls",
            "layout": "IPY_MODEL_83c874ea80a347b491532b837010b358"
          }
        },
        "157ec883e2c4489ba1af6f9eea76a2c7": {
          "model_module": "@jupyter-widgets/controls",
          "model_name": "HTMLModel",
          "state": {
            "_view_name": "HTMLView",
            "style": "IPY_MODEL_5245f713bb6f4dcea13849f05f9cc8fc",
            "_dom_classes": [],
            "description": "",
            "_model_name": "HTMLModel",
            "placeholder": "​",
            "_view_module": "@jupyter-widgets/controls",
            "_model_module_version": "1.5.0",
            "value": " 109/109 [17:48&lt;00:00,  9.80s/it]",
            "_view_count": null,
            "_view_module_version": "1.5.0",
            "description_tooltip": null,
            "_model_module": "@jupyter-widgets/controls",
            "layout": "IPY_MODEL_b61a9198606347bba63e74641f1aab95"
          }
        },
        "145d1895f42f42da9ab6b59fcd4e0c3f": {
          "model_module": "@jupyter-widgets/controls",
          "model_name": "ProgressStyleModel",
          "state": {
            "_view_name": "StyleView",
            "_model_name": "ProgressStyleModel",
            "description_width": "initial",
            "_view_module": "@jupyter-widgets/base",
            "_model_module_version": "1.5.0",
            "_view_count": null,
            "_view_module_version": "1.2.0",
            "bar_color": null,
            "_model_module": "@jupyter-widgets/controls"
          }
        },
        "83c874ea80a347b491532b837010b358": {
          "model_module": "@jupyter-widgets/base",
          "model_name": "LayoutModel",
          "state": {
            "_view_name": "LayoutView",
            "grid_template_rows": null,
            "right": null,
            "justify_content": null,
            "_view_module": "@jupyter-widgets/base",
            "overflow": null,
            "_model_module_version": "1.2.0",
            "_view_count": null,
            "flex_flow": null,
            "width": null,
            "min_width": null,
            "border": null,
            "align_items": null,
            "bottom": null,
            "_model_module": "@jupyter-widgets/base",
            "top": null,
            "grid_column": null,
            "overflow_y": null,
            "overflow_x": null,
            "grid_auto_flow": null,
            "grid_area": null,
            "grid_template_columns": null,
            "flex": null,
            "_model_name": "LayoutModel",
            "justify_items": null,
            "grid_row": null,
            "max_height": null,
            "align_content": null,
            "visibility": null,
            "align_self": null,
            "height": null,
            "min_height": null,
            "padding": null,
            "grid_auto_rows": null,
            "grid_gap": null,
            "max_width": null,
            "order": null,
            "_view_module_version": "1.2.0",
            "grid_template_areas": null,
            "object_position": null,
            "object_fit": null,
            "grid_auto_columns": null,
            "margin": null,
            "display": null,
            "left": null
          }
        },
        "5245f713bb6f4dcea13849f05f9cc8fc": {
          "model_module": "@jupyter-widgets/controls",
          "model_name": "DescriptionStyleModel",
          "state": {
            "_view_name": "StyleView",
            "_model_name": "DescriptionStyleModel",
            "description_width": "",
            "_view_module": "@jupyter-widgets/base",
            "_model_module_version": "1.5.0",
            "_view_count": null,
            "_view_module_version": "1.2.0",
            "_model_module": "@jupyter-widgets/controls"
          }
        },
        "b61a9198606347bba63e74641f1aab95": {
          "model_module": "@jupyter-widgets/base",
          "model_name": "LayoutModel",
          "state": {
            "_view_name": "LayoutView",
            "grid_template_rows": null,
            "right": null,
            "justify_content": null,
            "_view_module": "@jupyter-widgets/base",
            "overflow": null,
            "_model_module_version": "1.2.0",
            "_view_count": null,
            "flex_flow": null,
            "width": null,
            "min_width": null,
            "border": null,
            "align_items": null,
            "bottom": null,
            "_model_module": "@jupyter-widgets/base",
            "top": null,
            "grid_column": null,
            "overflow_y": null,
            "overflow_x": null,
            "grid_auto_flow": null,
            "grid_area": null,
            "grid_template_columns": null,
            "flex": null,
            "_model_name": "LayoutModel",
            "justify_items": null,
            "grid_row": null,
            "max_height": null,
            "align_content": null,
            "visibility": null,
            "align_self": null,
            "height": null,
            "min_height": null,
            "padding": null,
            "grid_auto_rows": null,
            "grid_gap": null,
            "max_width": null,
            "order": null,
            "_view_module_version": "1.2.0",
            "grid_template_areas": null,
            "object_position": null,
            "object_fit": null,
            "grid_auto_columns": null,
            "margin": null,
            "display": null,
            "left": null
          }
        }
      }
    }
  },
  "cells": [
    {
      "cell_type": "markdown",
      "metadata": {
        "id": "_ysPussEEXAY"
      },
      "source": [
        "# The Case of the Ugly OCR\n",
        "![](data:image/jpeg;base64,/9j/4AAQSkZJRgABAQAAAQABAAD/2wCEAAkGBxMTEhUTExIVFhUXFxUXFxUXFhUVFRcXFRYYFxcVFxUYHSggGBolGxUVITEhJSkrLi4uFx8zODMtNygtLisBCgoKDg0OGxAQGy0lICUtLS0tLS0tLS0tLS8tLS0tLS0tLS0tLS0tLS0tLS0tLS0tLS0tLS0tLS0tLS0tLS0tLf/AABEIAJgBSwMBIgACEQEDEQH/xAAcAAABBQEBAQAAAAAAAAAAAAAEAAIDBQYHAQj/xAA+EAABBAAEAgcFBgYCAQUAAAABAAIDEQQSITEFQQYTIlFhcYEHMpGhsRQjQlLB8DNicoKS0aLh8RUWJXPC/8QAGgEAAgMBAQAAAAAAAAAAAAAAAgMAAQQFBv/EACsRAAICAQQABgICAgMAAAAAAAABAhEDBBIhMSIyM0FRcRNhIzSBsQUUFf/aAAwDAQACEQMRAD8A4eCvWnVeEKXDMBu1bIG4eJpI9FroGgN07lioyQ4Ze8LWYeB+UEnkubrY9cj8PB5GPeWW4ue2tXC33tVlOMe+po/UY/P5AFWXDDoVWqx4bsVvzeUyQ8xqOH7KDpMfux5j6qfh2wQ/Sf8AhjzH1XGh66+zpS9JmVxe4UCIxg1Hkh1249HMn2Sy+6E+F6ZLsExpUrgouMK60TI2i3zVVhZKKsc9lvmltBphxW09m8tTEd4WMVz0WxT452ua0uAOoHcefgqmriyLs7hDJ4qg6cYRs0BjJAJ2s8/9Jr+OwgaP7XdTq+NKqln6x2YuzE/Id1H6LDjxycrfFD3JVwZ/g3QzDRAGRpmd3u9z0YNK87WmGChy5TDFl/LkbXwpKq5EctbH1q015P5T5rU2BRWcQ6LQOJdWQGgMlgtJNcyWuBPgPNZPi/R6SBwvtMJoPAoX3OH4StxI40A7m4eA07R+QKLgwX2i2DVhFOvYevf5KfkorZZg8NhiG0nYLohip3W2MhpPvO7Ir1XRuDdGoMKLJMr/AMz6oeTdvVWU3F2jbRY3qVjk3fZolHekqMXh/ZdY+9nrwaP9ofi/RfheEbUkkj31o1pFn9AtLjeOOO2y5b0l4iXyGq35f9c0el1DzzaXSFZcagrB8aYHH7uMtHi/MfXQITqgNQVApmFdGqMrGvKEi1eiJzomcPZZvvVspGn4Bh7BcrSWLRTcMweVgRT4NFifLs2JUqKiPE5GmkI3iZu3jQaq6bw4HdVnSzhvVYfMNczmtoaaGydTtoCmJPgTKuTH4mVpuaW8pJyM5uPf5KqAkmJygAejWtHiSjpmtc7M+jyaxt5R3C+aExuIJGV2g/KNAPQLUIRBLh2t3laT/LmPzoIYpJUoEJJWfR7gr8VLkbYaNXu/K3/Z5ILGwdXI9n5XOb/iSFV80XXuNkfeilw8Vi1FiYHMe5jxTmuLXA7hzTRB9QpcJLVhSXXBSCcJ7w8x9VtY36bclioveHmPqtfgR9Fy9eumasHuQxbu0WS4x7610PvPWP4oe2j0Xnf0Mz+mgNWHDjoVXo/AbFdDL5TJDzGr4bsEP0pHYHmPqp+F7BQ9Kfcb5j6riw9dHTl6TMtjxqEKjOJDUeSDXax+VHMyeZk0vuhQhSye6FEiXQBNE9H4WW3sCrGlEYN/3jPNC0Wmanqz3LQdG4HPY8aNY23GTfu0rmdO9BjEsMdc1vcPwkQ4eOPmRmf4uPf5bLLnzbI2OjDc6MLicDI8++6v8dPIKKLhD2ate4eIJBWxxOFA2VW9hcM3LkO7uJ8TvXL4lcv/ANKbb+DSsEUgbBcTxUegkDh3OF/OleYLiPWENMNOJ/BJkBJ8LF+qzsmMYHBuYEkgV4na+5Gw5wS4NIy722huBRDtDvsilrMyVuIKhGzfwcBa4AyXY1oH01KdjJ2wsysFNG1Ko4J0iBHVv2NBpu6O1a615nTy2XGmkgm1nz6mTjwNxwVgbuJuJ98ofE8Va0W549TaFdhSGZ+XNYnjs9Bw8UzSaGOTlyZWbK4rg0HEulMJBa0l525gLHz4jMbADR3BCQBTBpXaw4IYVUTnzySn2esRAUuA4bJIeywn0WkwfQXEvq25Qe9Mc4rtgqLZjMW7kj+GwHsaHcfVdN4d7NIhRldmPhoFpsPwnDQjsxtseCz5dVBIbDC7KHC4XsjyUk2F0Vo+i7QUF6/D2pBWrGSfJS4LCBxynkgPabgv/j3EbtdGf+Yb/wDpaKPAPDszeS96Q8NOJw00A958bg3+sC2/8gE9LgzyfJwIYaV7R1UbncrABr/vxQUmBLHVL2TzF2fLTmi4+JSxtyNbXLW7B2Irv3UTMPfbldV+VnwATgOScY9gZTWRsdsHZboeO5vxVXK2z7+Y/wB36hFdSHHU5G953ryT5BGBTXta3wBfI7vJOgaPC0PCCOn+z+OAYNvVFpfq6ZoNvDrIGYbgUBXJYnpdwOR2MmcxvZcQR6tBPztVXCcc7DSNnw+a2Hdw7DhzY6t2kaUuz4HpNwqWNkj5oWOc0FzHWHNdWrTY5GxfPdDXJdnNvaLgMzosY0aTtAkrYTNFE/3ZT6sceayeHaurcDwDMZBLhnkC+ywk6Ne8Exv9Hts+Bd3rmLsM+N745Glr2OLXNO4c00QfUIk/CV70exDtDzC2GBP0WTjGo8wtXwrc6clzNf0jVg9xkI7T/JYzifvrbxN7T/JYnifv/H6q9D53/gZqPTQGjsFsUEj8CNCujl8pjh5jU8K2Ch6U/wANvmFPwoaBQdK/4bfMfVcWH9hfZ1JekzMcS5eSDRnEfw+SDXax+U5mTzMlk90KJSv90KJEugD1SYc9tvmo1Jhhb2j+YD4lRkRvei0AkxMDTdZ2k+Tdf0XTuL49ucRtsu8AavxPxVf0L4BHGGzV2su55X3eK00krK1C5Wrqa23Rrxra7MjjWEsdY3LQfJz2tI+BKruKSuDMtnXlfcCfoCrtuYMe2R7ZHGi2mhlFpzN1vXUDuQWKwbZdrH4mkcj5fouKoRx5I27V+xqk206OYz413WPZeUBp1JI7ZbYJrUgWBQ+eyseCPc2Tq3tp/PtXYIDmOy0CNDubuwr7iPQoyEkFoJFXtQuzuD+ypej3RJkBzXZ77/U0Pgu1l1WF4Xt5deysyxxTc79h5YNr/ZWvjcXxtLt3NafiAVQ43AE0Buey3nv3eG5+K0kDQAGj8IA+ApcjH4kaeiIYS43MPMFcoxeAdNOY2jWyfh+/kuy0uW8KxmTixrUGQg92p+uvzXZ0ngi69kZczukE8O6CyPrkK5/NbPo/0Ghi7Txnd47LS9cwdyX2kUs0tepOrDjgr2JIcFEwU1gHkAnPxIGgVfieIBo3Va/iPcs2XNLihsYIt5cX46d6Ckxd7KrxGOJ5/wCl5hZCdyEUYN8sjZf4JlgFGmNBwzAUPAIoTBdqFVRjlYfhYBlUUfD6dmTWYqgnfbE3chW1nDvavwL7Ljy8NqLEXK2tg+/vW/5EO/vWfgw8BFuD7/l5+pXcenHBxj8K6LQStOeFx5PA2J5BwsHzvkvnnEYqSNzo3tLXtJa5p0IINEEIou+CpRZLj60YxnaOtCzV7DzrmvWYBsRBnbrzbYFb8h5c0K3iEhoAkd1E8/Je4ppq3OJPMfpf6BHRRPi3B99prIr0G7jpuGf+Ao2xwcmynxoa/BC4aDNZomuQFkpxz/mA8LApDRZ0jDufhpnNcC06gg7hzSHNPjqPgU32rcLPWw44NoYiNok8JmN1J/qZR/tK6T0l4EzFMv3ZW7P/AEPeFWca4f1vCnQPH3rYyWj+eCy0g+Ib/wAkFNcF2uzh7DqPMLTcDm7RF8ll2nUK84VOBM7yH6rHrI7oDsbplsw9p+vJYbio7fx+q2mEfbn+SxvF/f8Aj9UvQ8ZGvo0ajnGgFWGB2KrwrHBHQrpZfKYsfmNRwnYKHpYPux/UPqiOE7BQdLT90PMfVcSH9hfZ1ZeizMcTHu+SBU2JnzV4KFduCqNM5c3crRI/3Qo1I73QmBEgD1Pwxp7T/MPqmqTDjtt/qH1UZD6B6N8RD8O2jyArxCF4yzEOaRG9jfEgk+mtfG0H0eivIGnQt1WgztYdr815/WfxZN98fB0Mfi4MI7DY1gpzxIBzcKPxbQ+Sb/61LG5oNG7tt+WoNanw81vOK8Rb1WzbJAp2x11A8auvELBy4fM/rGh9NzW1woAk7tB12vQ3V7kaC4OGRb5JNP8AVclNNPajSxcZbkBMbr5kAGlV4nGOkdZ9B3eijwmJ5Ixsje4LPLK4LZt4NONqJZcKbl1cbdWl8geQVg2XVUDMbrStMPKDzQYZV2DJWHPkOVxAsgGh6LjXD5z9sDyNetsj11C7LHRBHeFyWfAubjcm5Mgr/JdjRyUoyMedNNHTZ5jmoHxXssrh5c0PJq8+CHxnEWMIzlcPTYd0m4qzZOVLkmknLhYQ75SSCoW8Yw9XnGqil4xADo4G1sWDN8CXkh8lg4Aj9EDxGfqY3OujyQWK6TRNJF7LG9Iukhl7A2K24tNK05CpZV0i6xPT5xfma0gUB8FPD7Q3DdpWGY1OyJ+xBHQY/aN/KVM32hjuK5tlT2hU4ftkOmx+0JvcVk+muIgxbuvjGWbZ+lCQDQE/zgaXzHkFRtUjVUW4u0ySSaoXDOGtyda4WLoAb2N179jw9utmIcfy5RoT5a16J5ne1jmMcWgm9NwdjXmqiaKUa5nHxBPzW+E1JWjDKDi+QyQBhLmRSNaQQC7fUVsFXOi8B8QoC48yV5lKIh9XyaFDsYCaOx/dKaWYBxtQuxQ3rbfvryQlHN+k3ssyRPlwkj5C0kmF+W8u4DHACyNdDuuVNc9riRYOxvQiuRC+qMPim5QWmw7mFifaH0PinikxMDQJ4wXPDR/FDRZBA/HWx57IWuA4vnk5d0ZxBtwdvSouLe+fM/VOjxhBtqGmcTuk48W3I5/I+eW4KJAjMJJSDyqeGNaZ8xEJ0y5i4vlCB4pxQyjLyUfVBMfEFmhixqW6uRssk2qsDSRQgCeIgtG9CqBnDshMCnxI2UCtdFDwUXwvDGSZjBuXBBBa/wBmeGz4tpOw5a/MIZOk2Wuzq/D8CMPCObqQbsXW4JPcDv43yV1xQLM42Jx7I57nfzB8P++5cJ4/z5al0uzZu2R4H8Ixhme9zmDI0tyXq622QeRAzC7HcBWiPxkpku1DgYmCQtLh1uUAt2pp1a0DyAP9yImw5HJY9fj25KXEV0OwStc9mfl4S8G2iwnxcMlNd3zV+0p4P781m/7bl5h21Loq4+HNbyJ+SNw0FbKVwG/lX6oqADajatR/IyXRLE2lkeJ4Au4ixwaKAzk13LWNfr4IXEYVwL5N7oAdw5roYsv48cmvgzzhuaA8PZzHnquf8enJmeLuiQuiDSNx2Oq5diXW5x8StP8AxEPA2K1j6QLM+goMO6mucvcW7ko8Y7LGB3rsmJFbK8k2ouYXpTTuFAl2WUR0T7ULE9ZGjZY9PjpRBOQtEJ2kJ4pQtSJQUWTUlk57Hv8A3umsK8LlFafBTSfZFi8KHA0BfeNPlshGwsGjni+fL9VZNcs/K63E95JWvBklK7M2WCXR9Q4ttu+H1UbBqjg0HdeGEJgoCwAyNI394142TSLwvvA3y/drxkQ1rmnxilCHAenPCxh8fiIwKbnztH8sgDwB4DMR6KhyLc+0qVkvEX5SDlYxjq/M0Gx5i6WGxUuVxHilqScqQxxaVngjTsqg+0pwmRuLBJU1TYeHMpJ8GWi9T4BLc4p0M2OrBQktDwjoZi5yA1mW9e1e3fQBRn/sZxFtxeHJ5C30fIgHTxVKcX7lU12YvFIcK64rwCeK7DXgc43B/rW9eipE+LTXADHLW+zrGOZiW5W3e5v9FkFqug0RMwNetfv9hVNeFkXZ2nHymvE7fv8AfJVuHGRrnOFgbDvdsG/X5nkimZsw9BW6bKNK5D934rnyawwv3Y1JzlRmpsC8uMhcc5JcTzs/RXXD+NEANlF+P+0uqtMfhgVleS1UjRt+C0GIjcNCvHOCpDD+leq8c122ZYc2DH5kNi30W+dqQxPcqS3cypmA96y79vQ3aXcbr1U80hDaQvD3aUU/ijy2JxbuAt2m/kX2KyeEilcA03v3d65fxeECR2UaWUXjeLylxtx3QT8SXGyu5psH4kYMuTeU8jbeAheKP18ldT17yzkj8xcVpFohTHbhOtMcdVZCyjOgUrUCyXRSsmWWUGalJBeROyoZsycJkDiwrQSAnZUN1ylbMgcWXZIF7lUXW6r3rlVMgzFOysd5V6lUdK4xLc4q65hVFLXgXBny9n1ZLGY2Avc0EkNDSQCb5C9zzoeK8MgXMsbxBk8rcRLLOZG0WEvgptGxlAoNF1sFeM6Wtbo4B1dz4x48ii3L2FbX7mqxWMbG1zyQGtBJPIACySq7B8dili65rxkqyTpVbgjkVjuNcfinblNtG4aJGZb73AHteqzL8jWkCZrWkglvWNAJG1i90Lb9glFe4PisM5875tbe97yNNMzidyR39yz3F8DICXlpy3v3X39yu5uLRs/G0+Vv/wCl7DxzMC0NJvvArnfpVqoxcXuoNytUZBSRLyasxrazXlei9iC0voUXXCtloOE8R6p+YRh5sNAeHANvd1NIcfClmsK8NYSRYo2Ne40NNauh6q14FG7EusZi0P7XbDaB90OLuV7+i5uSDbcjYppKjb4fj73NZBG90fWyZA4lozNecpD9LDbdtew376rjPH4I5DHBgIWsjtpleZHPkyntPcxsgDAa905q+SqMW1gdHIHTNbG/slmXR9gm70DrLNfDmaQbsPFK+Qy9hx7RLOy02TZMZsNJ0OhoXspi8MabBk03aRvOhuLgxjZWnDFob2s7OsAa03TpG5j3HtjQfNVXSvoA17XSYd5dINS1wFu8ARV8t9fHkqDhsgwzw6OeYMc3JTQxr3NO7HW/KQaOnNano90jfLP1WQ9UY2tYQ0W2Rh2eRqLb2dSdQ3XUlXJ7fFBlbb4ZyFzSCQRRGhHMEclq+gs+WUW7mNKOvrorD2qcHbFOyZoI68PLu7O0i/U5rQ/s6wmeYeetX9Vr3qePcIap0dlwsIrNzPyH6qKWHXZWPUUAAoXx8ly8njlyaI8Iqnt1TTHorEwkjkmCBIlBjVIp5I+/9/u0jGLFn1VpNhsyi+yAXp3f9pEoNDFJFc/BlexxnYhWQjO3wTXM7/8AwkZNMmrQan7EeHYQisa24neSjZFXkipR92fLmtGki1KheV8HH8e2nuHiVAieKvuV2252Qtr0a6OYwTiMlMKz7Xdl3mrfib7NeCp3t0UvktIiSSSRkPbXocUgE4NVMJWeCQpwlKQansj1QuglYutKcMQvXxrzq0PhL5PftC9GITMiRjUqJLZKcTog8370T5BSjTIRSAm2y1mkiI9yT/O/qhnGLk2Qd+o3UmTs2KNd+ybmjcKIc0947TfhuogAcvYNmn1K8dI3kyvVEy4Bw1BaW/mDhX+0ThcEyrDgXcifdB76UnKMeQkmwGGcA6RsP9Vn9UXjMRKYgdmFxbTQGi2taSNN9HD4r1vCpDiGR0PvHU1wIyEE6kHbbVWvHOCiMGOGbrgwuJoVyGYgAkWA0WR3DuVOS6KSMtalhKQAXoIBRPohb8MjDuyTQOhPgdFbDgEuHa4xDrC8BoB0sPIdloEdsU3TnfPZZzDY9rVvOi/S7DhnU4lhbZBbI68tgU0uBui3QAitAO7XHOM1L9Dm01+yzh6PsbHh5cRLfWsDgxsRDWgVYILjbqcbJ3KrMZ0ccZHvYczXfiojKANW1+H/AKWtPSXAzYYMfP22Odl7DnXeoGaiNr50stH0rjjIaAas0A83q7MSXNrmK8jXgicYMQpTTIZuGudH93RINh1AizWup1OvhX1reH4KXDztLKecwvLnaXOzaMO+lmjoVezdPYC4ANbC2231bQaA3N7k86u1aN6ZcLa90sbgcuo6xjzKc24YDpZJOt6DmLS5waXH+h0JvpgPtwkbkwzGkHVz/GnCrHhbSs57OuIMZO0OI1/YrTRVnSric3EsS6ZkJDaAbG05wwAAb+lqrw2FljeHZmtLSN3NOvdTbWiEEobQG7dn0yNQCOaa5iA6JY4TYdhLgXAAHWyrtsKxODUhu7gAEBKmGGCPZCl1Kv8AGVvKuXCDdRfZNFcCJe9QheJMtTaKGTDd3mmGNXU2G50g3wJbw0Gple0J3FQBA8kgdk6lFDDarL+0fjDYoRF+J26mnxPeXkn4Tms3vHzUZUIxIPNSTA5TVE+BBPwXW6MRUTuskqvnKPljc0dppHmCPqqyQql2GNSSSRlDwU5NCdaEI9UrdFG1PeULCR7a8BSC9yqixBK16AllVEIJzso1JiBsok6PQuXZNNiXO3Og2AoD4BRZl4koUekr0PPeV40XoNT3I6fg2IYzrHwSsZp2nscwG9qzAX6KEIIZCezZrf5K94DjTHnY0dtwJY69Q4NIy1zDmlzT5hC8E4e0h75XZGAOBPPQaNGh1c6h6OPJP4RE/rGlossId4W0ivnSGXwRFPioXNILhWZocPEHn8lCtf0uxEcGJMf2aN0jWszZzIchLcwjyhwacrS0GxuCqzA8dmzgNLIwd+qjji+bACfiq3NRui0rYFgsNIzLMYXmMG8xa4MP91VfcriLDsxRJa1zRR7cgcGNA3LpGktAFjcfVGNxIc8GcGVuttc52tggG99DR9FHx2PsCi0hoy0w5owHW4OZRpoJLraKAI8Vn/Lv5G7HF0V2H4SwPFSxPF6gSaEX4Frgt1huFYFsQLsALcbzmTEOcc21EOFD4rljISeRr960trwHhuaMlsWeNoz52tc7VrvxXseVeNI57oq1yAqffBpXcEwcbczMBGSdR1pncDz06yRo/eqpOIcEi60SP+zwZ/dj6wNYBmq8sTHZRodS6tENiZJ20Zg+Fg+8GHjJBdyBHNgIFZnG9CQO+txOKlncZJLJOw1IaOTR4BA3J9hRSNHgyILMgY0EANyi7N3YecxI222vx0zXSvDCPEdh4eyQMmY4AttkuosHUEahFcF6zrWxteGNc4E5q6u9gXAgjnvSb034gMRjHOa0tazLE2xTiI7t5HK3FxrkKCOCKfY3gPSebCSgsNt5s711fgXT4SNHWwSMP9OnxK5L0VLBj4DIQGZ9SdtWkD1uq8aXYJ+GQOP8avDKdvNI1mV40tsbf2FhgpN2zScP44yYXG1xrwWd6W+0aPBv6oxl0uUOoEU3NdB3jpddxCfNwqCWPq2YvEQtGrupcIzISBWZ1E0K2BG5u1xvppwRmExJjjmMrS0PzOrOC4mw+tzpd87RaVvJ53z8IHL4ekamf2v4tzKbFE11jtanTuo7KXhXtWxQZI+VkcgbkAAGU9ou1JHkFzQBGYb+FL5xfV3+1t/FD4M+9ncujftGw+KcyMgxyv0DTqCe4HmtDiuIRs0c4AnYHdfNOBjkMsYisSF7Qwg0Q8uAbR5a1qu1YjhOKe2EzVJMI2iRwy1nG+1D5LBrpPDFOKv9GjAt7pjOO+0TCwAiNwlk2DW7A7au2Fdy5PxvjcuKk6yZ1u2AGgA7gFvel3RRhglndGGPYxz840Jc0WQ5vO+/1XLgnaKUJw3RTX2BnUoypkocliDbUyk8CwtchaGwYh7fdeR5EhTu4g/8WR/9cbHn4kWhY2BenVLDC454HHt4VniWOkYfQZi0fBOOEwTtjiIz3nq5h8KYfmgAp8P72qpshOOCRO/h4tnlLHJGf+IePmnDoxOfcEcniyaI35Nc4O+ScHNBWk6MZHCVjIIpJMoc0yuIDKOrhWh3GhS9zD6MnJwWaPWSCVoHN0bw3/IikM3D3sLXRuGYmUOe5wDKDQ0MJrTNZ331HwCpuI9JHh5Dix1fnax5H+QJSY5t0ml7DZR2pMy/2F35T8E8YB5/CVey9MIyKMDHHvAdGPk4D/ilB0nioksDO5ubPpW90PonUxe4z4wbvylTx8Nkds1GycfiJ2+SKg6UQtGx+CqmTcZvi+CdHlLhV38lXK66QcYE4aAKok/EKlT4XQD7NGOFYRnvSTS+DWshA8cxL7+ATxiIGfw8JGTydIXynzLSchP9qSSVKTsiQ48fxIFRvEQ/LE1sLfURgJgwr5msDnOJc8kkknZrj+iSSCbqvsOK7I5oXBkeHAOcuzEetN+Zd6WtDweFmHj+1SDMyN9xs2+04ho0H/0Rkgk8zQ3KSSZJ0rFpW6MVihLLI6SQkve5z3OP4nONk6eJRfC8Ac1lJJTJLwhR7NA3Cjuv9+CJ4tI14OUOt1Fxec1Ae61hIvKPEk6BJJZsaVMdPtGckwy0XQLG4qCWQYWMyOeynANLw0Nc058o32y2fzJJLSlYiTD+M4Z0k8ji0tJc7s8x2j2fRQM4U6vdPwSSRxgmgXNonwOFayQdY01Y1BAd5aggg89FXcSwgzl1AWSabdDuAJ1rzXiSppJhRd8lDJg3PkysaSb5aro/Rnoo5jQ6aR7iNmZ3BrfCgaXiSTqZtJRRWNW7NRFgKBA52sBifZziXkvdMHPJJJNm9V4ks+OTgriMkt3ZXt9n2MzVlbXfen7/ANqxg9neJEcllgPY0vuK8STlqZsB40Bw9EMXDJHJGAXNe0jzBu/JdC4qX2Deul7pJJGWbyVYzGtvRjemeKxQjItvVO0Ja03X5SSTVn4rAZkklu09bOEJy3uFnTmSJJJ76FrsY9+q8L0kkoaNDk4u8UklRTdETpFadGutkxDWQvEby2TtEWA1rC52lG9B3JJK6RTfFlfiOJylxzSOdRIok5f8RohcRiHPNuOp9NkklEklwE+yJJJJEQSSSShBJJJKEP/Z)\n",
        "\n",
        "- This PDF file looks great to human eyes.\n",
        "- However, the text was OCRd without any regard to language or script.  \n",
        "- It looks like this: \n",
        "```text\n",
        "ÏÎ ÒÓ ÑÒÎÐÎÍÓ ÇÂÅÇÄ\\nÂåñíîé 1926 ãîäà ÿ î÷åíü ãîðÿ÷èëñÿ.\\nß ïîêèäàë Áåðëèí äî âûõîäà «Ïîòåìêèíà» íà ýêðàíû Ãåðìàíèè —\\nïåðâîé çàðóáåæíîé ñòðàíû, ãäå îí áûë ïîêàçàí*.\\nÅùå â êàíóí îòúåçäà ÿ ñïîðèë ñ ìàëîîïûòíûìè ïðîêàò÷èêàìè\\nôèëüìà îá îñíîâíîì ðåêëàìíîì «òåçèñå», ïîä êîòîðûì âûïóñêàòü\\nêàðòèíó.\\nß êðè÷àë èì, ÷òî íàäî çàãîëîâêîì ðåêëàìû âñþäó ñòàâèòü ñëî-\\nâà: «Ôèëüì áåç çâåçä».\\nÀ îíè áîÿëèñü, ÷òî ýòî ïàãóáíî îòðàçèòñÿ íà ñáîðàõ.\\nÂ äàëüíåéøåì îíè äàæå âïèñàëè òèòð îá ó÷àñòèè â ôèëüìå…\\nàðòèñòîâ Ìîñêîâñêîãî Õóäîæåñòâåííîãî òåàòðà (!!!)*.\\nÏðàâ îêàçàëñÿ ÿ: íà ñëåäóþùèé äåíü ïîñëå âûõîäà ôèëüìà íà\\nýêðàíû èìåííî ïîä ýòèì çíàêîì — «ôèëüì áåç çâåçä» — ïîíåñ-\\nëèñü ïîòîêè îäîáðèòåëüíûõ ðåöåíçèé.\\nÑåé÷àñ ÿ âñïîìèíàþ ýòîò ýïèçîä, ïîòîìó ÷òî îòñóòñòâèå «çâåçä»\\nâ ýòîì ôèëüìå áûëî îäíîé èç ïðè÷èí, ïî÷åìó âíèìàíèå âíóòðè\\nñàìîé ðàáîòû åñòåñòâåííî îáðàòèëîñü â ñòîðîíó áåñ÷èñëåííûõ\\nêèíåìàòîãðàôè÷åñêèõ ïðîáëåì, êîòîðûå îáû÷íî â óñëîâèÿõ «çâåç-\\näíîãî áëåñêà» ïðîòàãîíèñòîâ â äðóãèõ ïðîäóêöèÿõ íåìèíóåìî îñòà-\\nâàëèñü â òåíè.\\nÊàðòèíà â âîïðîñàõ êèíåìàòîãðàôèè çàãëÿíóëà «äàëüøå çâåçä»\\n— çà ïðåäåëû «êèíîçâåçäíîé ñôåðû», âíóòðè êîòîðîé â îñíîâíîì\\nâðàùàëèñü \n",
        " ```\n",
        " - It's not an encoding problem, it's a not-everything-is-English problem"
      ]
    },
    {
      "cell_type": "code",
      "metadata": {
        "id": "t3fLL3fXoZg_",
        "cellView": "form",
        "outputId": "b9a4667a-6685-453f-9dce-f5cde0e17de4",
        "colab": {
          "base_uri": "https://localhost:8080/"
        }
      },
      "source": [
        "#@title We'll need to extract the text from the files with something that knows Russian.  This cell installs Tesseract (open-source from Google) and the Russian weights.  The first time you'll need to click on the \"restart runtime\" button\n",
        "!apt-get install python-dev libxml2-dev libxslt1-dev antiword unrtf poppler-utils pstotext tesseract-ocr tesseract-ocr-rus flac ffmpeg lame libmad0 libsox-fmt-mp3 sox libjpeg-dev swig\n",
        "from google.colab import files\n",
        "import pandas as pd\n",
        "!apt-get install poppler-utils\n",
        "!pip install pdf2image\n",
        "from pdf2image import convert_from_path\n",
        "!pip install pymorphy2\n",
        "import pymorphy2\n",
        "import nltk\n",
        "nltk.download(\"stopwords\")\n",
        "from nltk.corpus import stopwords\n",
        "from string import punctuation\n",
        "!pip install pytesseract\n",
        "import pytesseract \n",
        "from tqdm.autonotebook import tqdm "
      ],
      "execution_count": null,
      "outputs": [
        {
          "output_type": "stream",
          "text": [
            "Reading package lists... Done\n",
            "Building dependency tree       \n",
            "Reading state information... Done\n",
            "libjpeg-dev is already the newest version (8c-2ubuntu8).\n",
            "python-dev is already the newest version (2.7.15~rc1-1).\n",
            "antiword is already the newest version (0.37-11build1).\n",
            "flac is already the newest version (1.3.2-1).\n",
            "lame is already the newest version (3.100-2).\n",
            "pstotext is already the newest version (1.9-6build1).\n",
            "swig is already the newest version (3.0.12-1).\n",
            "tesseract-ocr is already the newest version (4.00~git2288-10f4998a-2).\n",
            "tesseract-ocr-rus is already the newest version (4.00~git24-0e00fe6-1.2).\n",
            "unrtf is already the newest version (0.21.9-clean-3).\n",
            "libxml2-dev is already the newest version (2.9.4+dfsg1-6.1ubuntu1.3).\n",
            "libxslt1-dev is already the newest version (1.1.29-5ubuntu0.2).\n",
            "poppler-utils is already the newest version (0.62.0-2ubuntu2.10).\n",
            "ffmpeg is already the newest version (7:3.4.8-0ubuntu0.2).\n",
            "libmad0 is already the newest version (0.15.1b-9ubuntu18.04.1).\n",
            "libsox-fmt-mp3 is already the newest version (14.4.2-3ubuntu0.18.04.1).\n",
            "sox is already the newest version (14.4.2-3ubuntu0.18.04.1).\n",
            "0 upgraded, 0 newly installed, 0 to remove and 12 not upgraded.\n",
            "Reading package lists... Done\n",
            "Building dependency tree       \n",
            "Reading state information... Done\n",
            "poppler-utils is already the newest version (0.62.0-2ubuntu2.10).\n",
            "0 upgraded, 0 newly installed, 0 to remove and 12 not upgraded.\n",
            "Requirement already satisfied: pdf2image in /usr/local/lib/python3.6/dist-packages (1.14.0)\n",
            "Requirement already satisfied: pillow in /usr/local/lib/python3.6/dist-packages (from pdf2image) (7.0.0)\n",
            "Requirement already satisfied: pymorphy2 in /usr/local/lib/python3.6/dist-packages (0.9.1)\n",
            "Requirement already satisfied: dawg-python>=0.7.1 in /usr/local/lib/python3.6/dist-packages (from pymorphy2) (0.7.2)\n",
            "Requirement already satisfied: pymorphy2-dicts-ru<3.0,>=2.4 in /usr/local/lib/python3.6/dist-packages (from pymorphy2) (2.4.417127.4579844)\n",
            "Requirement already satisfied: docopt>=0.6 in /usr/local/lib/python3.6/dist-packages (from pymorphy2) (0.6.2)\n",
            "[nltk_data] Downloading package stopwords to /root/nltk_data...\n",
            "[nltk_data]   Package stopwords is already up-to-date!\n",
            "Requirement already satisfied: pytesseract in /usr/local/lib/python3.6/dist-packages (0.3.6)\n",
            "Requirement already satisfied: Pillow in /usr/local/lib/python3.6/dist-packages (from pytesseract) (7.0.0)\n"
          ],
          "name": "stdout"
        }
      ]
    },
    {
      "cell_type": "code",
      "metadata": {
        "id": "B2YPJm5SpERj",
        "cellView": "form",
        "outputId": "9da2f257-4557-4831-cdef-a82ef382f045",
        "colab": {
          "resources": {
            "http://localhost:8080/nbextensions/google.colab/files.js": {
              "data": "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",
              "ok": true,
              "headers": [
                [
                  "content-type",
                  "application/javascript"
                ]
              ],
              "status": 200,
              "status_text": ""
            }
          },
          "base_uri": "https://localhost:8080/",
          "height": 317,
          "referenced_widgets": [
            "660f22c8315645bfae1d76225b85d47a",
            "4ef18c41ee824fe0b981e9119d47c574",
            "301f9e743f0343b6971baf1aff3d62b4",
            "157ec883e2c4489ba1af6f9eea76a2c7",
            "145d1895f42f42da9ab6b59fcd4e0c3f",
            "83c874ea80a347b491532b837010b358",
            "5245f713bb6f4dcea13849f05f9cc8fc",
            "b61a9198606347bba63e74641f1aab95"
          ]
        }
      },
      "source": [
        "#@title Upload and process your PDF file(s). 1. The PDF is turned into image files. 2. We use Tesseract to read the text in the image and create plain text\n",
        "uploaded = files.upload()\n",
        "\n",
        "texts=[]\n",
        "for fn in uploaded.keys():\n",
        "    images = convert_from_path(fn) \n",
        "    print(f'[*] processing {fn}')\n",
        "    for i, img in tqdm(enumerate(images), total=len(images)): \n",
        "        ocr_result = pytesseract.image_to_string(img, lang='rus')\n",
        "        texts.append({\"file\":fn, \"page\":i, \"text\":ocr_result})\n",
        "\n",
        "df = pd.DataFrame(texts)\n",
        "df.head()"
      ],
      "execution_count": null,
      "outputs": [
        {
          "output_type": "display_data",
          "data": {
            "text/html": [
              "\n",
              "     <input type=\"file\" id=\"files-f405d70e-ddf0-4bff-b2a5-8556940547c6\" name=\"files[]\" multiple disabled\n",
              "        style=\"border:none\" />\n",
              "     <output id=\"result-f405d70e-ddf0-4bff-b2a5-8556940547c6\">\n",
              "      Upload widget is only available when the cell has been executed in the\n",
              "      current browser session. Please rerun this cell to enable.\n",
              "      </output>\n",
              "      <script src=\"/nbextensions/google.colab/files.js\"></script> "
            ],
            "text/plain": [
              "<IPython.core.display.HTML object>"
            ]
          },
          "metadata": {
            "tags": []
          }
        },
        {
          "output_type": "stream",
          "text": [
            "Saving 31-139.pdf to 31-139 (3).pdf\n",
            "[*] processing 31-139.pdf\n"
          ],
          "name": "stdout"
        },
        {
          "output_type": "display_data",
          "data": {
            "application/vnd.jupyter.widget-view+json": {
              "model_id": "660f22c8315645bfae1d76225b85d47a",
              "version_minor": 0,
              "version_major": 2
            },
            "text/plain": [
              "HBox(children=(FloatProgress(value=0.0, max=109.0), HTML(value='')))"
            ]
          },
          "metadata": {
            "tags": []
          }
        },
        {
          "output_type": "stream",
          "text": [
            "\n"
          ],
          "name": "stdout"
        },
        {
          "output_type": "execute_result",
          "data": {
            "text/html": [
              "<div>\n",
              "<style scoped>\n",
              "    .dataframe tbody tr th:only-of-type {\n",
              "        vertical-align: middle;\n",
              "    }\n",
              "\n",
              "    .dataframe tbody tr th {\n",
              "        vertical-align: top;\n",
              "    }\n",
              "\n",
              "    .dataframe thead th {\n",
              "        text-align: right;\n",
              "    }\n",
              "</style>\n",
              "<table border=\"1\" class=\"dataframe\">\n",
              "  <thead>\n",
              "    <tr style=\"text-align: right;\">\n",
              "      <th></th>\n",
              "      <th>file</th>\n",
              "      <th>page</th>\n",
              "      <th>text</th>\n",
              "    </tr>\n",
              "  </thead>\n",
              "  <tbody>\n",
              "    <tr>\n",
              "      <th>0</th>\n",
              "      <td>31-139.pdf</td>\n",
              "      <td>0</td>\n",
              "      <td>МЕТОД\\n</td>\n",
              "    </tr>\n",
              "    <tr>\n",
              "      <th>1</th>\n",
              "      <td>31-139.pdf</td>\n",
              "      <td>1</td>\n",
              "      <td>А РАК\\nЯ РР =“ р р\\n\\nри\\nИ\\n\\nми\\n\\nа)\\nЕ\\n\\n...</td>\n",
              "    </tr>\n",
              "    <tr>\n",
              "      <th>2</th>\n",
              "      <td>31-139.pdf</td>\n",
              "      <td>2</td>\n",
              "      <td>ПО ТУ СТОРОНУ ЗВЕЗД\\n\\nВесной 1926 года я очен...</td>\n",
              "    </tr>\n",
              "    <tr>\n",
              "      <th>3</th>\n",
              "      <td>31-139.pdf</td>\n",
              "      <td>3</td>\n",
              "      <td>\\n\\nНа съемках эпизода «Покаяние Ивана» для т...</td>\n",
              "    </tr>\n",
              "    <tr>\n",
              "      <th>4</th>\n",
              "      <td>31-139.pdf</td>\n",
              "      <td>4</td>\n",
              "      <td>БЕДНЫЙ САЛЬЕРИ\\n(вместо посвящения)\\n\\nЗвуки у...</td>\n",
              "    </tr>\n",
              "  </tbody>\n",
              "</table>\n",
              "</div>"
            ],
            "text/plain": [
              "         file  page                                               text\n",
              "0  31-139.pdf     0                                           МЕТОД\\n\n",
              "\n",
              "1  31-139.pdf     1  А РАК\\nЯ РР =“ р р\\n\\nри\\nИ\\n\\nми\\n\\nа)\\nЕ\\n\\n...\n",
              "2  31-139.pdf     2  ПО ТУ СТОРОНУ ЗВЕЗД\\n\\nВесной 1926 года я очен...\n",
              "3  31-139.pdf     3   \\n\\nНа съемках эпизода «Покаяние Ивана» для т...\n",
              "4  31-139.pdf     4  БЕДНЫЙ САЛЬЕРИ\\n(вместо посвящения)\\n\\nЗвуки у..."
            ]
          },
          "metadata": {
            "tags": []
          },
          "execution_count": 28
        }
      ]
    },
    {
      "cell_type": "code",
      "metadata": {
        "id": "w6GBTkW6rFSv",
        "cellView": "form",
        "outputId": "23ccb108-ace7-4b10-d239-0132e1c9edfc",
        "colab": {
          "base_uri": "https://localhost:8080/",
          "height": 17
        }
      },
      "source": [
        "#@title Export the results as a CSV file.  Enter the filename for your file below.\n",
        "filename = \"output.csv\" #@param {type:\"string\"}\n",
        "df.to_csv(filename)\n",
        "files.download(filename)"
      ],
      "execution_count": null,
      "outputs": [
        {
          "output_type": "display_data",
          "data": {
            "application/javascript": [
              "\n",
              "    async function download(id, filename, size) {\n",
              "      if (!google.colab.kernel.accessAllowed) {\n",
              "        return;\n",
              "      }\n",
              "      const div = document.createElement('div');\n",
              "      const label = document.createElement('label');\n",
              "      label.textContent = `Downloading \"${filename}\": `;\n",
              "      div.appendChild(label);\n",
              "      const progress = document.createElement('progress');\n",
              "      progress.max = size;\n",
              "      div.appendChild(progress);\n",
              "      document.body.appendChild(div);\n",
              "\n",
              "      const buffers = [];\n",
              "      let downloaded = 0;\n",
              "\n",
              "      const channel = await google.colab.kernel.comms.open(id);\n",
              "      // Send a message to notify the kernel that we're ready.\n",
              "      channel.send({})\n",
              "\n",
              "      for await (const message of channel.messages) {\n",
              "        // Send a message to notify the kernel that we're ready.\n",
              "        channel.send({})\n",
              "        if (message.buffers) {\n",
              "          for (const buffer of message.buffers) {\n",
              "            buffers.push(buffer);\n",
              "            downloaded += buffer.byteLength;\n",
              "            progress.value = downloaded;\n",
              "          }\n",
              "        }\n",
              "      }\n",
              "      const blob = new Blob(buffers, {type: 'application/binary'});\n",
              "      const a = document.createElement('a');\n",
              "      a.href = window.URL.createObjectURL(blob);\n",
              "      a.download = filename;\n",
              "      div.appendChild(a);\n",
              "      a.click();\n",
              "      div.remove();\n",
              "    }\n",
              "  "
            ],
            "text/plain": [
              "<IPython.core.display.Javascript object>"
            ]
          },
          "metadata": {
            "tags": []
          }
        },
        {
          "output_type": "display_data",
          "data": {
            "application/javascript": [
              "download(\"download_4a87c2ca-485c-4a80-acef-a0f9b4216dd0\", \"output.csv\", 436564)"
            ],
            "text/plain": [
              "<IPython.core.display.Javascript object>"
            ]
          },
          "metadata": {
            "tags": []
          }
        }
      ]
    },
    {
      "cell_type": "code",
      "metadata": {
        "id": "LYWujTMgtvNI",
        "cellView": "form",
        "outputId": "32a08924-b71f-4dfd-d467-8a790edbe932",
        "colab": {
          "base_uri": "https://localhost:8080/",
          "height": 17
        }
      },
      "source": [
        "#@title You might prefer one text file.\n",
        "#for file in df['file'].unique():\n",
        "#    txt_df = df[df['file'] == file]\n",
        "txt = ' '.join(df['text'].tolist())\n",
        "Path('txt_file.txt').write_text(txt)\n",
        "files.download('txt_file.txt')"
      ],
      "execution_count": null,
      "outputs": [
        {
          "output_type": "display_data",
          "data": {
            "application/javascript": [
              "\n",
              "    async function download(id, filename, size) {\n",
              "      if (!google.colab.kernel.accessAllowed) {\n",
              "        return;\n",
              "      }\n",
              "      const div = document.createElement('div');\n",
              "      const label = document.createElement('label');\n",
              "      label.textContent = `Downloading \"${filename}\": `;\n",
              "      div.appendChild(label);\n",
              "      const progress = document.createElement('progress');\n",
              "      progress.max = size;\n",
              "      div.appendChild(progress);\n",
              "      document.body.appendChild(div);\n",
              "\n",
              "      const buffers = [];\n",
              "      let downloaded = 0;\n",
              "\n",
              "      const channel = await google.colab.kernel.comms.open(id);\n",
              "      // Send a message to notify the kernel that we're ready.\n",
              "      channel.send({})\n",
              "\n",
              "      for await (const message of channel.messages) {\n",
              "        // Send a message to notify the kernel that we're ready.\n",
              "        channel.send({})\n",
              "        if (message.buffers) {\n",
              "          for (const buffer of message.buffers) {\n",
              "            buffers.push(buffer);\n",
              "            downloaded += buffer.byteLength;\n",
              "            progress.value = downloaded;\n",
              "          }\n",
              "        }\n",
              "      }\n",
              "      const blob = new Blob(buffers, {type: 'application/binary'});\n",
              "      const a = document.createElement('a');\n",
              "      a.href = window.URL.createObjectURL(blob);\n",
              "      a.download = filename;\n",
              "      div.appendChild(a);\n",
              "      a.click();\n",
              "      div.remove();\n",
              "    }\n",
              "  "
            ],
            "text/plain": [
              "<IPython.core.display.Javascript object>"
            ]
          },
          "metadata": {
            "tags": []
          }
        },
        {
          "output_type": "display_data",
          "data": {
            "application/javascript": [
              "download(\"download_a0a7ef73-024d-44ed-85c6-6dd3e8479ce7\", \"txt_file.txt\", 434470)"
            ],
            "text/plain": [
              "<IPython.core.display.Javascript object>"
            ]
          },
          "metadata": {
            "tags": []
          }
        }
      ]
    },
    {
      "cell_type": "code",
      "metadata": {
        "id": "7G-mUhK_wdGy",
        "cellView": "form",
        "outputId": "dc766e63-7166-430a-a69b-6d3c97cf316d",
        "colab": {
          "base_uri": "https://localhost:8080/",
          "height": 17
        }
      },
      "source": [
        "#@title Or even better, let's lemmatize, remove stop words and punctuation.\n",
        "file_name = \"me.txt\" #@param {type:\"string\"}\n",
        "from pathlib import Path \n",
        "lemmatizer = pymorphy2.MorphAnalyzer()\n",
        "from spacy.lang.ru import Russian\n",
        "nlp = Russian()\n",
        "\n",
        "def preprocess_text(txt):\n",
        "        doc = nlp(txt)\n",
        "        p = [lemmatizer.parse(token.text)[0].normal_form for token in doc if not token.is_stop and not token.is_punct]\n",
        "        return ' '.join([i for i in p])\n",
        "\n",
        "txt = ' '.join(df['text'].tolist())\n",
        "txt = preprocess_text(txt)\n",
        "Path(file_name).write_text(txt)\n",
        "files.download(file_name)\n"
      ],
      "execution_count": null,
      "outputs": [
        {
          "output_type": "display_data",
          "data": {
            "application/javascript": [
              "\n",
              "    async function download(id, filename, size) {\n",
              "      if (!google.colab.kernel.accessAllowed) {\n",
              "        return;\n",
              "      }\n",
              "      const div = document.createElement('div');\n",
              "      const label = document.createElement('label');\n",
              "      label.textContent = `Downloading \"${filename}\": `;\n",
              "      div.appendChild(label);\n",
              "      const progress = document.createElement('progress');\n",
              "      progress.max = size;\n",
              "      div.appendChild(progress);\n",
              "      document.body.appendChild(div);\n",
              "\n",
              "      const buffers = [];\n",
              "      let downloaded = 0;\n",
              "\n",
              "      const channel = await google.colab.kernel.comms.open(id);\n",
              "      // Send a message to notify the kernel that we're ready.\n",
              "      channel.send({})\n",
              "\n",
              "      for await (const message of channel.messages) {\n",
              "        // Send a message to notify the kernel that we're ready.\n",
              "        channel.send({})\n",
              "        if (message.buffers) {\n",
              "          for (const buffer of message.buffers) {\n",
              "            buffers.push(buffer);\n",
              "            downloaded += buffer.byteLength;\n",
              "            progress.value = downloaded;\n",
              "          }\n",
              "        }\n",
              "      }\n",
              "      const blob = new Blob(buffers, {type: 'application/binary'});\n",
              "      const a = document.createElement('a');\n",
              "      a.href = window.URL.createObjectURL(blob);\n",
              "      a.download = filename;\n",
              "      div.appendChild(a);\n",
              "      a.click();\n",
              "      div.remove();\n",
              "    }\n",
              "  "
            ],
            "text/plain": [
              "<IPython.core.display.Javascript object>"
            ]
          },
          "metadata": {
            "tags": []
          }
        },
        {
          "output_type": "display_data",
          "data": {
            "application/javascript": [
              "download(\"download_b1dc8b75-4cdb-42ff-b2eb-6a719d2c72ac\", \"me.txt\", 362142)"
            ],
            "text/plain": [
              "<IPython.core.display.Javascript object>"
            ]
          },
          "metadata": {
            "tags": []
          }
        }
      ]
    },
    {
      "cell_type": "code",
      "metadata": {
        "id": "FPAXl0vvdvgJ"
      },
      "source": [
        ""
      ],
      "execution_count": null,
      "outputs": []
    }
  ]
}